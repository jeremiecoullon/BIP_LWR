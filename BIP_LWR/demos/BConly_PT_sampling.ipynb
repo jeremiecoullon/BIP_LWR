{
 "cells": [
  {
   "cell_type": "code",
   "execution_count": null,
   "metadata": {},
   "outputs": [],
   "source": [
    "%matplotlib inline\n",
    "import numpy as np\n",
    "import matplotlib.pyplot as plt\n",
    "import seaborn as sns\n",
    "from copy import deepcopy\n",
    "import pandas as pd\n",
    "from collections import OrderedDict\n",
    "from context import BIP_LWR\n",
    "\n",
    "from BIP_LWR.tools.vis import mcmc_vis_tools\n",
    "from BIP_LWR.tools.vis.vis_util import plot_LWR_xt\n",
    "from BIP_LWR.lwr.lwr_solver import LWR_Solver\n",
    "\n",
    "from BIP_LWR.traffic_data.test_data.Simulated_LWR_Nov2018.del_Cast_true_params import FD_delCast_simulated\n",
    "\n",
    "from BIP_LWR.tools.vis.acf import my_plot_acf"
   ]
  },
  {
   "cell_type": "markdown",
   "metadata": {},
   "source": [
    "# BC only sampling - PT sampler\n",
    "\n",
    "Use a PT sampler to sample from BCs given fixed FD paramters. \n",
    "\n",
    "This notebook analyses the trace plots found in `Analysis/BConly_PT_sampling`"
   ]
  },
  {
   "cell_type": "code",
   "execution_count": null,
   "metadata": {
    "scrolled": true
   },
   "outputs": [],
   "source": [
    "paths_hdf5 = mcmc_vis_tools.list_paths(base_path=\"../../../Analysis/BConly_PT_sampling/\")"
   ]
  },
  {
   "cell_type": "code",
   "execution_count": null,
   "metadata": {},
   "outputs": [],
   "source": [
    "# Process 0 is the untempered distribution\n",
    "paths = paths_hdf5[1]\n",
    "mcmc_vis = mcmc_vis_tools.MCMC_vis(data_directory=paths)\n",
    "# mcmc_vis.move\n",
    "print(\"====\\n\")\n",
    "\n",
    "mcmc_vis.print_chain_info()\n",
    "\n",
    "print(\"{} chains\\n----\".format(len(mcmc_vis.d_samples)))\n",
    "print(\"Number of samples per chain:\")\n",
    "for elem in mcmc_vis.d_samples.values():\n",
    "    print(len(elem))\n",
    "    "
   ]
  },
  {
   "cell_type": "code",
   "execution_count": null,
   "metadata": {},
   "outputs": [],
   "source": [
    "\n",
    "\n",
    "plt.rcParams.update({'font.size': 16})"
   ]
  },
  {
   "cell_type": "code",
   "execution_count": null,
   "metadata": {},
   "outputs": [],
   "source": [
    "chain_list = list(range(1,12))[:]\n",
    "# chain_list = [1,3,4,6,7]\n",
    "\n",
    "mcmc_vis.print_chain_info()\n",
    "print(mcmc_vis.move)\n",
    "print(\"FD covariance:\\n{}\".format(mcmc_vis.cov))\n",
    "# print(\"\\nFD joint covariance:\\n{}\".format(mcmc_vis.cov_joint))\n",
    "fig, ax = mcmc_vis.trace_plot(chains=chain_list, log_post_lim=-9999999, burnin=0, step=1, pt_size=1, figsize=(25, 19))\n",
    "#                    title_save=\"DelCastSim_FDonly-traceplots.png\")\n",
    "\n",
    "\n",
    "ax[0].set_title(r\"$z$\")\n",
    "ax[1].set_title(r\"$\\rho_j$\")\n",
    "ax[2].set_title(r\"$u$\")\n",
    "ax[3].set_title(r\"$\\omega$\")\n",
    "ax[4].set_title(r\"log posterior\")\n",
    "plt.tight_layout()\n",
    "# plt.savefig(\"figures/delCast_DS1_FDBC-CorrPT.png\")"
   ]
  },
  {
   "cell_type": "code",
   "execution_count": null,
   "metadata": {},
   "outputs": [],
   "source": [
    "df_all = mcmc_vis.concat_chains(chains=[1,2,3,4], params=['rho_j','u','w','z', 'BC_outlet', 'BC_inlet'])\n",
    "df_all_mean = df_all.mean()"
   ]
  },
  {
   "cell_type": "code",
   "execution_count": null,
   "metadata": {},
   "outputs": [],
   "source": [
    "chain_num = 1\n",
    "burnin = 0\n",
    "\n",
    "print(\"MSEJD: {:.4f}\\n\".format(mcmc_vis.MSEJD(chains=[chain_num], burnin=burnin)))\n",
    "\n",
    "mcmc_vis.acceptance_rate(param_type='BC',chains=[chain_num], burnin=burnin)\n",
    "mcmc_vis.acceptance_rate(param_type='PT_beta',chains=[chain_num], burnin=burnin)\n",
    "print(\"Total number of PT_beta moves: {}\".format(mcmc_vis.PT_accepts(chain_num) + mcmc_vis.PT_rejects(chain_num)))\n",
    "print(\"\\n---\")\n",
    "\n",
    "\n",
    "for elem in range(1, 13):\n",
    "    print(\"Acceptance rate for section {0}: {1:.1f}%\".format(elem, mcmc_vis.accept_Gibbs(chain_num=chain_num, section_num=elem)))\n",
    "# elem = 15\n",
    "# print(\"Acceptance rate for section {0}: {1:.1f}%\".format(elem, mcmc_vis.accept_Gibbs(chain_num=chain_num, section_num=elem)))\n",
    "for BC_type in ['BC_outlet', 'BC_inlet']:\n",
    "    print(\"\\n\")\n",
    "    for el in [1,2,3]:\n",
    "        print(\"{} MSEJD for chain {}: {:.0f}\".format(BC_type, el, mcmc_vis.BC_MSEJD(BC_type=BC_type, chains=[el], burnin=burnin)))\n",
    "        "
   ]
  },
  {
   "cell_type": "code",
   "execution_count": null,
   "metadata": {},
   "outputs": [],
   "source": [
    "\n",
    "plt.rcParams.update({'font.size': 20})"
   ]
  },
  {
   "cell_type": "code",
   "execution_count": null,
   "metadata": {},
   "outputs": [],
   "source": [
    "mcmc_vis.print_chain_info()\n",
    "BC_type = \"BC_outlet\"\n",
    "BC_type = \"BC_inlet\"\n",
    "chain_num = 1\n",
    "lags = 1\n",
    "\n",
    "# ========\n",
    "lag_list = np.linspace(0, lags, int(lags/mcmc_vis.step_save)+1)\n",
    "lags = int(lags/mcmc_vis.step_save)\n",
    "print(\"Number of lags for thinned chain: {}\".format(lags))\n",
    "df = mcmc_vis.d_samples['MCMC_{}'.format(chain_num)][BC_type]\n",
    "for BC_t in range(0, len(df[0]), 100):\n",
    "    BC_t_sams = np.array([elem[BC_t] for elem in df])\n",
    "\n",
    "    fig = plt.figure(figsize=(20, 8))\n",
    "    layout = (2, 2)\n",
    "    acf_ax = plt.subplot2grid(layout, (1, 0))\n",
    "    my_plot_acf(BC_t_sams, lags=lags, lag_list=lag_list, ax=acf_ax)\n",
    "    acf_ax.axhline(0.37, alpha=0.7,c='r')\n",
    "    plt.tight_layout()\n",
    "    plt.title(\"{} at t = {}\".format(BC_type, BC_t))"
   ]
  },
  {
   "cell_type": "code",
   "execution_count": null,
   "metadata": {},
   "outputs": [],
   "source": [
    "\n",
    "plt.rcParams.update({'font.size': 15})"
   ]
  },
  {
   "cell_type": "code",
   "execution_count": null,
   "metadata": {},
   "outputs": [],
   "source": [
    "config_dict = {'my_analysis_dir': '2018/June2_2018-New_dataset',\n",
    "                'run_num': 1,\n",
    "                'data_array_dict':\n",
    "                    {'flow': 'data_array_70108_flow_49t.csv',\n",
    "                    'density': 'data_array_70108_density_49t.csv'},\n",
    "               'ratio_times_BCs': 40,\n",
    "                      }\n",
    "LWR = LWR_Solver(config_dict=config_dict)\n",
    "\n",
    "\n",
    "df_mean = mcmc_vis.concat_chains(params=['z', 'rho_j','u','w'], burnin=0).mean()\n",
    "df_BCs = mcmc_vis.concat_chains(params=['BC_outlet', 'BC_inlet'], burnin=0)\n",
    "\n",
    "FD = df_mean.to_dict()\n",
    "FD['solver'] = 'lwr_del_Cast'\n",
    "FD['w'] = 1/FD['w']\n",
    "\n",
    "FD['BC_outlet'] = df_BCs['BC_outlet'].mean()\n",
    "FD['BC_inlet'] = df_BCs['BC_inlet'].mean()\n",
    "\n",
    "\n",
    "title_save = None\n",
    "# title_save = \"DelCastSim_TRUE_PARAMS-XT_density.png\"\n",
    "\n",
    "\n",
    "plot_LWR_xt(FD=FD, data_variable='density', config_dict=config_dict,\n",
    "           out_times=np.linspace(0,40*LWR.final_time, 1200), title_save=title_save)"
   ]
  },
  {
   "cell_type": "code",
   "execution_count": null,
   "metadata": {},
   "outputs": [],
   "source": []
  },
  {
   "cell_type": "code",
   "execution_count": null,
   "metadata": {},
   "outputs": [],
   "source": [
    "\n",
    "plt.rcParams.update({'font.size': 20})"
   ]
  },
  {
   "cell_type": "code",
   "execution_count": null,
   "metadata": {},
   "outputs": [],
   "source": [
    "mcmc_vis.print_chain_info()\n",
    "sample_alpha_val = 0.1\n",
    "chain_list = [1,]\n",
    "\n",
    "N_BCs = len(mcmc_vis.d_samples['MCMC_1'].iloc[0]['BC_outlet'])\n",
    "color_list = ['r','b','g','m','y']\n",
    "\n",
    "burnin = 0\n",
    "step = 80\n",
    "array_BCs = mcmc_vis.concat_chains(burnin=burnin, chains=chain_list, params=['BC_inlet', 'BC_outlet']).values\n",
    "array_outlet = array_BCs[:, 1]\n",
    "array_inlet = array_BCs[:, 0]\n",
    "\n",
    "\n",
    "print(\"plotting {} BCs\\n\\n\".format((len(array_outlet[::step]))))\n",
    "plt.figure(figsize=(20,10))\n",
    "# for elem in array_outlet[::step]:\n",
    "#     plt.plot(np.linspace(0,60, N_BCs), elem, linewidth=1, alpha=sample_alpha_val, c='r')\n",
    "\n",
    "for chain_num in chain_list:\n",
    "    for elem in mcmc_vis.concat_chains(burnin=burnin, chains=[chain_num], params=['BC_outlet']).BC_outlet.values[::step]:\n",
    "        plt.plot(np.linspace(0, 40, N_BCs), elem, linewidth=1, alpha=sample_alpha_val, \n",
    "                 c=color_list[chain_num-1])\n",
    "        \n",
    "# plt.plot(np.linspace(0,60, N_BCs), FD_delCast_simulated['BC_outlet'], c='black', label=\"true BCs\")\n",
    "# plt.plot(np.linspace(0, 60, N_BCs), mcmc.move.BC_prior_mean['BC_outlet'], c='blue', label=\"prior mean\")\n",
    "\n",
    "plt.xlabel(\"Time (min)\", size=30)\n",
    "plt.ylabel('Density (veh/km)', size=30)\n",
    "# plt.title(\"Outlet BC samples\", size=25)\n",
    "# plt.legend(prop={'size': 20})\n",
    "# plt.savefig(\"figures/delCast_DS1_FDBC_CorrPT-outlet_BC_samples.png\")\n",
    "\n",
    "print(\"plotting {} BCs\\n\\n\".format((len(array_inlet[::step]))))\n",
    "plt.figure(figsize=(20,10))\n",
    "# for elem in array_inlet[::step]:\n",
    "#     plt.plot(np.linspace(0,60, N_BCs), elem, linewidth=1, alpha=sample_alpha_val, c='r')\n",
    "\n",
    "for chain_num in chain_list:\n",
    "    for elem in mcmc_vis.concat_chains(burnin=burnin, chains=[chain_num], params=['BC_inlet']).BC_inlet.values[::step]:\n",
    "        plt.plot(np.linspace(0, 40, N_BCs), elem, linewidth=1, alpha=sample_alpha_val, \n",
    "                 c=color_list[chain_num-1])\n",
    "\n",
    "# plt.plot(np.linspace(0,60, N_BCs), FD_delCast_simulated['BC_inlet'], c='black', label=\"true BCs\")\n",
    "# plt.plot(np.linspace(0, 60, N_BCs), mcmc.move.BC_prior_mean['BC_inlet'], c='blue', label=\"prior mean\")\n",
    "\n",
    "plt.xlabel(\"Time (min)\", size=30)\n",
    "plt.ylabel('Density (veh/km)', size=30)\n",
    "\n",
    "# plt.title(\"Inlet BC samples\", size=25)\n",
    "# plt.legend(prop={'size': 20})\n",
    "# plt.savefig(\"figures/delCast_DS1_FDBC_CorrPT-inlet_BC_samples.png\")"
   ]
  },
  {
   "cell_type": "code",
   "execution_count": null,
   "metadata": {},
   "outputs": [],
   "source": []
  },
  {
   "cell_type": "markdown",
   "metadata": {},
   "source": [
    "## BC - R_hat values"
   ]
  },
  {
   "cell_type": "code",
   "execution_count": null,
   "metadata": {},
   "outputs": [],
   "source": [
    "\n",
    "plt.rcParams.update({'font.size': 20})"
   ]
  },
  {
   "cell_type": "code",
   "execution_count": null,
   "metadata": {},
   "outputs": [],
   "source": [
    "BC_type = 'BC_outlet'\n",
    "\n",
    "t_list = np.linspace(0, 40, 50)\n",
    "mcmc_vis.plot_BC_R_hat(BC_type=BC_type, t_list=t_list, burnin=0)\n",
    "# plt.savefig(\"figures/delCast_sim_FDBC-outlet_Rhat.png\")"
   ]
  },
  {
   "cell_type": "code",
   "execution_count": null,
   "metadata": {},
   "outputs": [],
   "source": [
    "BC_type = 'BC_inlet'\n",
    "\n",
    "t_list = np.linspace(0, 40, 50)\n",
    "mcmc_vis.plot_BC_R_hat(BC_type=BC_type, t_list=t_list, burnin=0)\n",
    "# plt.savefig(\"figures/delCast_sim_FDBC-inlet_Rhat.png\")"
   ]
  },
  {
   "cell_type": "code",
   "execution_count": null,
   "metadata": {},
   "outputs": [],
   "source": []
  },
  {
   "cell_type": "code",
   "execution_count": null,
   "metadata": {},
   "outputs": [],
   "source": []
  },
  {
   "cell_type": "markdown",
   "metadata": {},
   "source": [
    "## BC trace plots"
   ]
  },
  {
   "cell_type": "code",
   "execution_count": null,
   "metadata": {},
   "outputs": [],
   "source": []
  },
  {
   "cell_type": "code",
   "execution_count": null,
   "metadata": {},
   "outputs": [],
   "source": [
    "BC_type = 'BC_outlet'\n",
    "# chains = [1,2,3,4]\n",
    "chains = [1]\n",
    "burnin = 0\n",
    "step = 1\n",
    "cell_num_list = np.arange(0, N_BCs, 39)\n",
    "\n",
    "mcmc_vis.print_chain_info()\n",
    "mcmc_vis.BC_trace_plots(BC_type, cell_num_list, step=step, chains=chains, burnin=burnin)"
   ]
  },
  {
   "cell_type": "code",
   "execution_count": null,
   "metadata": {},
   "outputs": [],
   "source": [
    "BC_type = 'BC_inlet'\n",
    "chains = [1,2,3,4]\n",
    "chains = [1]\n",
    "burnin = 0\n",
    "step = 1\n",
    "cell_num_list = np.arange(0, N_BCs, 39)\n",
    "\n",
    "mcmc_vis.print_chain_info()\n",
    "mcmc_vis.BC_trace_plots(BC_type, cell_num_list, step=step, chains=chains, burnin=burnin)"
   ]
  },
  {
   "cell_type": "code",
   "execution_count": null,
   "metadata": {},
   "outputs": [],
   "source": []
  },
  {
   "cell_type": "code",
   "execution_count": null,
   "metadata": {},
   "outputs": [],
   "source": [
    "BC_type = 'BC_outlet'\n",
    "\n",
    "N_BCs = len(mcmc_vis.d_samples['MCMC_1'].iloc[0].BC_outlet)\n",
    "# chains = [1,2,3,4,]\n",
    "chains = [1,]\n",
    "burnin = 0\n",
    "step = 1\n",
    "# cell_num_list = [0, 429, 1560,]\n",
    "cell_num_list = [0, 5, 10, 15]\n",
    "\n",
    "mcmc_vis.BC_trace_plots(BC_type, cell_num_list, step=step, chains=chains, burnin=burnin,\n",
    "                       figsize=(15,10))\n",
    "# plt.savefig(\"figures/delCast_DS1_FDBC-temp0-coldest-outlet_traceplot.png\")\n",
    "\n"
   ]
  },
  {
   "cell_type": "code",
   "execution_count": null,
   "metadata": {},
   "outputs": [],
   "source": []
  },
  {
   "cell_type": "code",
   "execution_count": null,
   "metadata": {},
   "outputs": [],
   "source": [
    "BC_type = 'BC_inlet'\n",
    "\n",
    "N_BCs = len(mcmc_vis.d_samples['MCMC_1'].iloc[0].BC_outlet)\n",
    "chains = [1,2,3,4]\n",
    "chains = [1]\n",
    "burnin = 0\n",
    "step = 1\n",
    "cell_num_list = [156, 251, 1170]\n",
    "\n",
    "mcmc_vis.BC_trace_plots(BC_type, cell_num_list, step=step, chains=chains, burnin=burnin,\n",
    "                       figsize=(15,10))\n",
    "# plt.savefig(\"figures/delCast_sim_FDBC-inlet_traceplot.png\")\n"
   ]
  },
  {
   "cell_type": "code",
   "execution_count": null,
   "metadata": {},
   "outputs": [],
   "source": []
  },
  {
   "cell_type": "code",
   "execution_count": null,
   "metadata": {},
   "outputs": [],
   "source": []
  },
  {
   "cell_type": "code",
   "execution_count": null,
   "metadata": {},
   "outputs": [],
   "source": []
  },
  {
   "cell_type": "code",
   "execution_count": null,
   "metadata": {},
   "outputs": [],
   "source": []
  },
  {
   "cell_type": "code",
   "execution_count": null,
   "metadata": {},
   "outputs": [],
   "source": []
  }
 ],
 "metadata": {
  "kernelspec": {
   "display_name": "Python 3",
   "language": "python",
   "name": "python3"
  },
  "language_info": {
   "codemirror_mode": {
    "name": "ipython",
    "version": 3
   },
   "file_extension": ".py",
   "mimetype": "text/x-python",
   "name": "python",
   "nbconvert_exporter": "python",
   "pygments_lexer": "ipython3",
   "version": "3.7.4"
  }
 },
 "nbformat": 4,
 "nbformat_minor": 2
}
