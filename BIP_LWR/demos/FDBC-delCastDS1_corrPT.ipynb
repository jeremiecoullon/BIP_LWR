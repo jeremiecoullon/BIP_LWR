{
 "cells": [
  {
   "cell_type": "code",
   "execution_count": null,
   "metadata": {},
   "outputs": [],
   "source": [
    "%matplotlib inline\n",
    "import numpy as np\n",
    "import matplotlib.pyplot as plt\n",
    "import seaborn as sns\n",
    "from copy import deepcopy\n",
    "import pandas as pd\n",
    "from collections import OrderedDict\n",
    "from context import BIP_LWR\n",
    "\n",
    "from BIP_LWR.tools.vis import mcmc_vis_tools\n",
    "from BIP_LWR.tools.vis.vis_util import plot_LWR_xt\n",
    "from BIP_LWR.lwr.lwr_solver import LWR_Solver\n",
    "\n",
    "from BIP_LWR.traffic_data.test_data.Simulated_LWR_Nov2018.del_Cast_true_params import FD_delCast_simulated\n",
    "\n",
    "from BIP_LWR.tools.vis.acf import my_plot_acf\n",
    "\n",
    "from BIP_LWR.tools.util import FD_neg_power\n",
    "\n",
    "from BIP_LWR.config import LWRConfigHolder\n",
    "from BIP_LWR.config import BIN_PATH, default_config_dict"
   ]
  },
  {
   "cell_type": "markdown",
   "metadata": {},
   "source": [
    "# FD&BC only sampling - Population PT sampler\n",
    "\n",
    "Use a Population PT sampler to sample from FD and BCs\n",
    "\n",
    "This notebook analyses the trace plots found in `Analysis/FDBC_PopulationPT_sampler`"
   ]
  },
  {
   "cell_type": "code",
   "execution_count": null,
   "metadata": {
    "scrolled": true
   },
   "outputs": [],
   "source": [
    "paths_hdf5 = mcmc_vis_tools.list_paths(base_path=\"../../../Analysis/FDBC_PopulationPT_sampler/\")"
   ]
  },
  {
   "cell_type": "code",
   "execution_count": null,
   "metadata": {},
   "outputs": [],
   "source": [
    "# Process 0 is the untempered distribution\n",
    "paths = paths_hdf5[6]\n",
    "mcmc_vis = mcmc_vis_tools.MCMC_vis(data_directory=paths)\n",
    "# mcmc_vis.move\n",
    "print(\"====\\n\")\n",
    "\n",
    "mcmc_vis.print_chain_info()\n",
    "\n",
    "print(\"{} chains\\n----\".format(len(mcmc_vis.d_samples)))\n",
    "print(\"Number of samples per chain:\")\n",
    "for elem in mcmc_vis.d_samples.values():\n",
    "    print(len(elem))\n",
    "    "
   ]
  },
  {
   "cell_type": "code",
   "execution_count": null,
   "metadata": {},
   "outputs": [],
   "source": []
  },
  {
   "cell_type": "markdown",
   "metadata": {},
   "source": [
    "## plot sampled FDs with M25 data"
   ]
  },
  {
   "cell_type": "code",
   "execution_count": null,
   "metadata": {},
   "outputs": [],
   "source": [
    "\n",
    "plt.rcParams.update({'font.size': 20})"
   ]
  },
  {
   "cell_type": "code",
   "execution_count": null,
   "metadata": {},
   "outputs": [],
   "source": [
    "burnin = 0\n",
    "step = 10\n",
    "# chain_list = [1,2,3,4,5,6,7,8,9]\n",
    "chain_list = [1,2,3]\n",
    "chain_list = [1]\n",
    "\n",
    "title_save = None\n",
    "# title_save = \"DelCastSim_FDonly-FDcloud.png\"\n",
    "\n",
    "\n",
    "x_range = np.arange(0, 500,1)\n",
    "config_dict = {'my_analysis_dir': '2019/Jan3_2019-DelCast_sim-Replica_exchange',\n",
    "'run_num': 100,\n",
    "'data_array_dict':{'flow': 'data_array_70108_flow_49t.csv',\n",
    "                    'density': 'data_array_70108_density_49t.csv'},}\n",
    "\n",
    "config = LWRConfigHolder(**config_dict)\n",
    "\n",
    "density_data = np.genfromtxt(config.DATA_DENSITY_PATH)\n",
    "flow_data = np.genfromtxt(config.DATA_FLOW_PATH)\n",
    "\n",
    "plt.figure(figsize=(15,10))\n",
    "plt.scatter(density_data[:,2], flow_data[:,2], alpha=0.6, label=\"Density from occupancy\")\n",
    "plt.xlabel(\"Density (veh/km)\", size=26)\n",
    "plt.ylabel(\"Flow (veh/min)\", size=26)\n",
    "\n",
    "\n",
    "for chain_num in chain_list:\n",
    "    for idx, elem in mcmc_vis.d_samples[f'MCMC_{chain_num}'].iloc[burnin::step].iterrows():\n",
    "        le_params = {k:v for k,v in elem.to_dict().items() if k in ['rho_j','u','w','z']}\n",
    "        le_params['w'] = 1/le_params['w']\n",
    "        plt.plot(x_range, FD_neg_power(rho=x_range, **le_params), alpha=0.5)\n",
    "\n",
    "plt.legend()\n",
    "\n",
    "# plt.savefig(\"figures/delCast_sim_FDBC-FDsamples.png\")"
   ]
  },
  {
   "cell_type": "markdown",
   "metadata": {},
   "source": [
    "## FD trace plots"
   ]
  },
  {
   "cell_type": "code",
   "execution_count": null,
   "metadata": {},
   "outputs": [],
   "source": [
    "\n",
    "\n",
    "plt.rcParams.update({'font.size': 16})"
   ]
  },
  {
   "cell_type": "code",
   "execution_count": null,
   "metadata": {},
   "outputs": [],
   "source": [
    "chain_list = list(range(1,12))[:]\n",
    "# chain_list = [1,3,4,6,7]\n",
    "\n",
    "mcmc_vis.print_chain_info()\n",
    "print(mcmc_vis.move)\n",
    "print(\"FD covariance:\\n{}\".format(mcmc_vis.cov))\n",
    "# print(\"\\nFD joint covariance:\\n{}\".format(mcmc_vis.cov_joint))\n",
    "fig, ax = mcmc_vis.trace_plot(chains=chain_list, log_post_lim=-9999999, burnin=0, step=1, pt_size=1, figsize=(25, 19))\n",
    "#                    title_save=\"DelCastSim_FDonly-traceplots.png\")\n",
    "\n",
    "\n",
    "ax[0].set_title(r\"$z$\")\n",
    "ax[1].set_title(r\"$\\rho_j$\")\n",
    "ax[2].set_title(r\"$u$\")\n",
    "ax[3].set_title(r\"$\\omega$\")\n",
    "ax[4].set_title(r\"log posterior\")\n",
    "plt.tight_layout()\n",
    "# plt.savefig(\"figures/delCast_DS1_FDBC-CorrPT.png\")"
   ]
  },
  {
   "cell_type": "code",
   "execution_count": null,
   "metadata": {},
   "outputs": [],
   "source": [
    "df_all = mcmc_vis.concat_chains(chains=[1,2,3,4], params=['rho_j','u','w','z', 'BC_outlet', 'BC_inlet'])\n",
    "df_all_mean = df_all.mean()"
   ]
  },
  {
   "cell_type": "code",
   "execution_count": null,
   "metadata": {},
   "outputs": [],
   "source": [
    "mcmc_vis.kdeplot(params=['rho_j','u','w','z'])"
   ]
  },
  {
   "cell_type": "code",
   "execution_count": null,
   "metadata": {},
   "outputs": [],
   "source": [
    "chain_num = 1\n",
    "burnin = 0\n",
    "\n",
    "print(\"MSEJD: {:.4f}\\n\".format(mcmc_vis.MSEJD(chains=[chain_num], burnin=burnin)))\n",
    "\n",
    "mcmc_vis.acceptance_rate(param_type='FD',chains=[chain_num], burnin=burnin)\n",
    "mcmc_vis.acceptance_rate(param_type='BC',chains=[chain_num], burnin=burnin)\n",
    "mcmc_vis.acceptance_rate(param_type='PT_beta',chains=[chain_num], burnin=burnin)\n",
    "print(\"Total number of PT_beta moves: {}\".format(mcmc_vis.PT_accepts(chain_num) + mcmc_vis.PT_rejects(chain_num)))\n",
    "print(\"\\n---\")\n",
    "\n",
    "\n",
    "for par in ['z','rho_j','u','w']:\n",
    "    print(\"R_hat for {}: {:.3f}\".format(par, mcmc_vis.R_hat(param=par)))\n",
    "print(\"\\n----\")\n",
    "\n",
    "for elem in range(1, 13):\n",
    "    print(\"Acceptance rate for section {0}: {1:.1f}%\".format(elem, mcmc_vis.accept_Gibbs(chain_num=chain_num, section_num=elem)))\n",
    "# elem = 15\n",
    "# print(\"Acceptance rate for section {0}: {1:.1f}%\".format(elem, mcmc_vis.accept_Gibbs(chain_num=chain_num, section_num=elem)))\n",
    "for BC_type in ['BC_outlet', 'BC_inlet']:\n",
    "    print(\"\\n\")\n",
    "    for el in [1,2,3]:\n",
    "        print(\"{} MSEJD for chain {}: {:.0f}\".format(BC_type, el, mcmc_vis.BC_MSEJD(BC_type=BC_type, chains=[el], burnin=burnin)))\n",
    "        "
   ]
  },
  {
   "cell_type": "code",
   "execution_count": null,
   "metadata": {},
   "outputs": [],
   "source": [
    "mcmc_vis.print_chain_info()\n",
    "df_all = mcmc_vis.concat_chains(chains=[1,2,3,4])\n",
    "\n",
    "\n",
    "fig, ax = plt.subplots(2,2, figsize=(20, 13))\n",
    "\n",
    "ax[0,0].scatter(df_all.u, df_all.z, alpha=0.1)\n",
    "ax[0,0].set_xlabel(\"u\", size=24)\n",
    "ax[0,0].set_ylabel(\"z\", size=24, rotation='horizontal')\n",
    "\n",
    "ax[0,1].scatter(df_all.u, df_all.rho_j, alpha=0.1)\n",
    "ax[0,1].set_xlabel(\"u\", size=24)\n",
    "ax[0,1].set_ylabel(\"rho_j\", size=24, rotation='horizontal')\n",
    "\n",
    "\n",
    "ax[1,0].scatter(df_all.z, df_all.rho_j, alpha=0.1)\n",
    "ax[1,0].set_xlabel(\"z\", size=24)\n",
    "ax[1,0].set_ylabel(\"rho_j\", size=24, rotation='horizontal')\n",
    "\n",
    "\n",
    "ax[1,1].scatter(df_all.z, df_all.w, alpha=0.1)\n",
    "ax[1,1].set_xlabel(\"z\", size=24)\n",
    "ax[1,1].set_ylabel(\"w\", size=24, rotation='horizontal')"
   ]
  },
  {
   "cell_type": "code",
   "execution_count": null,
   "metadata": {},
   "outputs": [],
   "source": [
    "\n",
    "plt.rcParams.update({'font.size': 20})"
   ]
  },
  {
   "cell_type": "code",
   "execution_count": null,
   "metadata": {},
   "outputs": [],
   "source": [
    "chain_num = 1\n",
    "lags = 10\n",
    "\n",
    "lag_list = np.linspace(0, lags, int(lags/mcmc_vis.step_save)+1)\n",
    "\n",
    "# ========\n",
    "lags = int(lags/mcmc_vis.step_save)\n",
    "print(\"Number of lags for thinned chain: {}\".format(lags))\n",
    "df = mcmc_vis.d_samples['MCMC_{}'.format(chain_num)]\n",
    "\n",
    "\n",
    "fig, acf_ax = plt.subplots(4, figsize=(10, 14), sharex=True)\n",
    "    \n",
    "for idx, par in enumerate(['z', 'rho_j','u','w']):\n",
    "    my_plot_acf(df[par], lags=lags, lag_list=lag_list, ax=acf_ax[idx])\n",
    "#     acf_ax.set_xlim(1.5)\n",
    "    # sns.despine()\n",
    "    plt.tight_layout()\n",
    "    acf_ax[idx].set_title(par, size=20)\n",
    "acf_ax[-1].set_xlabel(\"Iteration\", size=30)\n",
    "plt.tight_layout()\n",
    "acf_ax[0].axhline(0.37, alpha=0.7,c='r', label=r'$e^{-1}$')\n",
    "acf_ax[1].axhline(0.37, alpha=0.7,c='r', label=r'$e^{-1}$')\n",
    "acf_ax[2].axhline(0.37, alpha=0.7,c='r', label=r'$e^{-1}$')\n",
    "acf_ax[3].axhline(0.37, alpha=0.7,c='r', label=r'$e^{-1}$')\n",
    "for idx in range(0,4):\n",
    "    acf_ax[idx].legend()\n",
    "\n",
    "    # plt.savefig(\"delCast_DS1_FDBC-ACF-CorrPTsampler-FDs_xaxis30K.png\")"
   ]
  },
  {
   "cell_type": "code",
   "execution_count": null,
   "metadata": {},
   "outputs": [],
   "source": []
  },
  {
   "cell_type": "code",
   "execution_count": null,
   "metadata": {},
   "outputs": [],
   "source": [
    "mcmc_vis.print_chain_info()\n",
    "BC_type = \"BC_outlet\"\n",
    "BC_type = \"BC_inlet\"\n",
    "chain_num = 1\n",
    "lags = 10\n",
    "\n",
    "# ========\n",
    "lag_list = np.linspace(0, lags, int(lags/mcmc_vis.step_save)+1)\n",
    "lags = int(lags/mcmc_vis.step_save)\n",
    "print(\"Number of lags for thinned chain: {}\".format(lags))\n",
    "df = mcmc_vis.d_samples['MCMC_{}'.format(chain_num)][BC_type]\n",
    "for BC_t in range(0, len(df[0]), 100):\n",
    "    BC_t_sams = np.array([elem[BC_t] for elem in df])\n",
    "\n",
    "    fig = plt.figure(figsize=(20, 8))\n",
    "    layout = (2, 2)\n",
    "    acf_ax = plt.subplot2grid(layout, (1, 0))\n",
    "    my_plot_acf(BC_t_sams, lags=lags, lag_list=lag_list, ax=acf_ax)\n",
    "    acf_ax.axhline(0.37, alpha=0.7,c='r')\n",
    "    plt.tight_layout()\n",
    "    plt.title(\"{} at t = {}\".format(BC_type, BC_t))"
   ]
  },
  {
   "cell_type": "code",
   "execution_count": null,
   "metadata": {},
   "outputs": [],
   "source": []
  },
  {
   "cell_type": "code",
   "execution_count": null,
   "metadata": {},
   "outputs": [],
   "source": []
  },
  {
   "cell_type": "code",
   "execution_count": null,
   "metadata": {},
   "outputs": [],
   "source": []
  },
  {
   "cell_type": "code",
   "execution_count": null,
   "metadata": {},
   "outputs": [],
   "source": [
    "\n",
    "plt.rcParams.update({'font.size': 15})"
   ]
  },
  {
   "cell_type": "code",
   "execution_count": null,
   "metadata": {},
   "outputs": [],
   "source": [
    "config_dict = {'my_analysis_dir': '2018/June2_2018-New_dataset',\n",
    "                'run_num': 1,\n",
    "                'data_array_dict':\n",
    "                    {'flow': 'data_array_70108_flow_49t.csv',\n",
    "                    'density': 'data_array_70108_density_49t.csv'},\n",
    "               'ratio_times_BCs': 40,\n",
    "                      }\n",
    "LWR = LWR_Solver(config_dict=config_dict)\n",
    "\n",
    "\n",
    "df_mean = mcmc_vis.concat_chains(params=['z', 'rho_j','u','w'], burnin=0).mean()\n",
    "df_BCs = mcmc_vis.concat_chains(params=['BC_outlet', 'BC_inlet'], burnin=0)\n",
    "\n",
    "FD = df_mean.to_dict()\n",
    "# FD = deepcopy(FD_delCast_simulated)\n",
    "FD['solver'] = 'lwr_del_Cast'\n",
    "FD['w'] = 1/FD['w']\n",
    "\n",
    "FD['BC_outlet'] = df_BCs['BC_outlet'].mean()\n",
    "FD['BC_inlet'] = df_BCs['BC_inlet'].mean()\n",
    "\n",
    "\n",
    "title_save = None\n",
    "# title_save = \"DelCastSim_TRUE_PARAMS-XT_density.png\"\n",
    "\n",
    "\n",
    "plot_LWR_xt(FD=FD, data_variable='density', config_dict=config_dict,\n",
    "           out_times=np.linspace(0,40*LWR.final_time, 1200), \n",
    "            title_save=title_save)"
   ]
  },
  {
   "cell_type": "code",
   "execution_count": null,
   "metadata": {},
   "outputs": [],
   "source": []
  },
  {
   "cell_type": "code",
   "execution_count": null,
   "metadata": {},
   "outputs": [],
   "source": [
    "mcmc_vis.print_chain_info()\n",
    "sample_alpha_val = 0.1\n",
    "chain_list = [1,2,3,4]\n",
    "chain_list = [1]\n",
    "\n",
    "N_BCs = len(mcmc_vis.d_samples['MCMC_1'].iloc[0]['BC_outlet'])\n",
    "color_list = ['r','b','g','m','y']\n",
    "\n",
    "burnin = 0\n",
    "step = 10\n",
    "array_BCs = mcmc_vis.concat_chains(burnin=burnin, chains=chain_list, params=['BC_inlet', 'BC_outlet']).values\n",
    "array_outlet = array_BCs[:, 1]\n",
    "array_inlet = array_BCs[:, 0]\n",
    "\n",
    "\n",
    "print(\"plotting {} BCs\\n\\n\".format((len(array_outlet[::step]))))\n",
    "plt.figure(figsize=(20,10))\n",
    "# for elem in array_outlet[::step]:\n",
    "#     plt.plot(np.linspace(0,60, N_BCs), elem, linewidth=1, alpha=sample_alpha_val, c='r')\n",
    "\n",
    "for chain_num in chain_list:\n",
    "    for elem in mcmc_vis.concat_chains(burnin=burnin, chains=[chain_num], params=['BC_outlet']).BC_outlet.values[::step]:\n",
    "        plt.plot(np.linspace(0, 40, N_BCs), elem, linewidth=1, alpha=sample_alpha_val, \n",
    "                 c=color_list[chain_num-1])\n",
    "        \n",
    "# plt.plot(np.linspace(0,60, N_BCs), FD_delCast_simulated['BC_outlet'], c='black', label=\"true BCs\")\n",
    "# plt.plot(np.linspace(0, 60, N_BCs), mcmc.move.BC_prior_mean['BC_outlet'], c='blue', label=\"prior mean\")\n",
    "\n",
    "plt.xlabel(\"Time (min)\", size=30)\n",
    "plt.ylabel('Density (veh/km)', size=30)\n",
    "# plt.title(\"Outlet BC samples\", size=25)\n",
    "# plt.legend(prop={'size': 20})\n",
    "# plt.savefig(\"figures/delCast_DS1_FDBC_CorrPT-outlet_BC_samples.png\")\n",
    "\n",
    "print(\"plotting {} BCs\\n\\n\".format((len(array_inlet[::step]))))\n",
    "plt.figure(figsize=(20,10))\n",
    "# for elem in array_inlet[::step]:\n",
    "#     plt.plot(np.linspace(0,60, N_BCs), elem, linewidth=1, alpha=sample_alpha_val, c='r')\n",
    "\n",
    "for chain_num in chain_list:\n",
    "    for elem in mcmc_vis.concat_chains(burnin=burnin, chains=[chain_num], params=['BC_inlet']).BC_inlet.values[::step]:\n",
    "        plt.plot(np.linspace(0, 40, N_BCs), elem, linewidth=1, alpha=sample_alpha_val, \n",
    "                 c=color_list[chain_num-1])\n",
    "\n",
    "# plt.plot(np.linspace(0,60, N_BCs), FD_delCast_simulated['BC_inlet'], c='black', label=\"true BCs\")\n",
    "# plt.plot(np.linspace(0, 60, N_BCs), mcmc.move.BC_prior_mean['BC_inlet'], c='blue', label=\"prior mean\")\n",
    "\n",
    "plt.xlabel(\"Time (min)\", size=30)\n",
    "plt.ylabel('Density (veh/km)', size=30)\n",
    "\n",
    "# plt.title(\"Inlet BC samples\", size=25)\n",
    "# plt.legend(prop={'size': 20})\n",
    "# plt.savefig(\"figures/delCast_DS1_FDBC_CorrPT-inlet_BC_samples.png\")"
   ]
  },
  {
   "cell_type": "code",
   "execution_count": null,
   "metadata": {},
   "outputs": [],
   "source": []
  },
  {
   "cell_type": "markdown",
   "metadata": {},
   "source": [
    "## BC R_hat values"
   ]
  },
  {
   "cell_type": "code",
   "execution_count": null,
   "metadata": {},
   "outputs": [],
   "source": [
    "\n",
    "plt.rcParams.update({'font.size': 20})"
   ]
  },
  {
   "cell_type": "code",
   "execution_count": null,
   "metadata": {},
   "outputs": [],
   "source": [
    "BC_type = 'BC_outlet'\n",
    "\n",
    "t_list = np.linspace(0, 40, 50)\n",
    "mcmc_vis.plot_BC_R_hat(BC_type=BC_type, t_list=t_list, burnin=0)\n",
    "# plt.savefig(\"figures/delCast_sim_FDBC-outlet_Rhat.png\")"
   ]
  },
  {
   "cell_type": "code",
   "execution_count": null,
   "metadata": {},
   "outputs": [],
   "source": [
    "BC_type = 'BC_inlet'\n",
    "\n",
    "t_list = np.linspace(0, 40, 50)\n",
    "mcmc_vis.plot_BC_R_hat(BC_type=BC_type, t_list=t_list, burnin=0)\n",
    "# plt.savefig(\"figures/delCast_sim_FDBC-inlet_Rhat.png\")"
   ]
  },
  {
   "cell_type": "code",
   "execution_count": null,
   "metadata": {},
   "outputs": [],
   "source": []
  },
  {
   "cell_type": "code",
   "execution_count": null,
   "metadata": {},
   "outputs": [],
   "source": []
  },
  {
   "cell_type": "code",
   "execution_count": null,
   "metadata": {},
   "outputs": [],
   "source": []
  },
  {
   "cell_type": "code",
   "execution_count": null,
   "metadata": {},
   "outputs": [],
   "source": []
  },
  {
   "cell_type": "markdown",
   "metadata": {},
   "source": [
    "## BC trace plots"
   ]
  },
  {
   "cell_type": "code",
   "execution_count": null,
   "metadata": {},
   "outputs": [],
   "source": [
    "BC_type = 'BC_outlet'\n",
    "chains = [1,2,3,4]\n",
    "chains = [1]\n",
    "burnin = 0\n",
    "step = 1\n",
    "cell_num_list = np.arange(0, N_BCs, 39)\n",
    "\n",
    "mcmc_vis.print_chain_info()\n",
    "mcmc_vis.BC_trace_plots(BC_type, cell_num_list, step=step, chains=chains, burnin=burnin)"
   ]
  },
  {
   "cell_type": "code",
   "execution_count": null,
   "metadata": {},
   "outputs": [],
   "source": [
    "BC_type = 'BC_inlet'\n",
    "chains = [1,2,3,4]\n",
    "chains = [1]\n",
    "burnin = 0\n",
    "step = 1\n",
    "cell_num_list = np.arange(0, N_BCs, 39)\n",
    "\n",
    "mcmc_vis.print_chain_info()\n",
    "mcmc_vis.BC_trace_plots(BC_type, cell_num_list, step=step, chains=chains, burnin=burnin)"
   ]
  },
  {
   "cell_type": "code",
   "execution_count": null,
   "metadata": {},
   "outputs": [],
   "source": []
  },
  {
   "cell_type": "code",
   "execution_count": null,
   "metadata": {},
   "outputs": [],
   "source": []
  },
  {
   "cell_type": "code",
   "execution_count": null,
   "metadata": {},
   "outputs": [],
   "source": [
    "BC_type = 'BC_outlet'\n",
    "\n",
    "N_BCs = len(mcmc_vis.d_samples['MCMC_1'].iloc[0].BC_outlet)\n",
    "chains = [1,2,3,4,]\n",
    "chains = [1]\n",
    "burnin = 0\n",
    "step = 1\n",
    "cell_num_list = [0, 429, 1560,]\n",
    "# cell_num_list = [0, 5, 10, 15]\n",
    "\n",
    "mcmc_vis.BC_trace_plots(BC_type, cell_num_list, step=step, chains=chains, burnin=burnin,\n",
    "                       figsize=(15,10))\n",
    "# plt.savefig(\"figures/delCast_sim_FDBC-outlet_traceplot.png\")\n",
    "\n"
   ]
  },
  {
   "cell_type": "code",
   "execution_count": null,
   "metadata": {},
   "outputs": [],
   "source": [
    "BC_type = 'BC_inlet'\n",
    "\n",
    "N_BCs = len(mcmc_vis.d_samples['MCMC_1'].iloc[0].BC_outlet)\n",
    "chains = [1,2,3,4]\n",
    "chains = [1]\n",
    "burnin = 0\n",
    "step = 1\n",
    "cell_num_list = [156, 251, 1170]\n",
    "\n",
    "mcmc_vis.BC_trace_plots(BC_type, cell_num_list, step=step, chains=chains, burnin=burnin,\n",
    "                       figsize=(15,10))\n",
    "# plt.savefig(\"figures/delCast_sim_FDBC-inlet_traceplot.png\")\n"
   ]
  },
  {
   "cell_type": "code",
   "execution_count": null,
   "metadata": {},
   "outputs": [],
   "source": []
  },
  {
   "cell_type": "code",
   "execution_count": null,
   "metadata": {},
   "outputs": [],
   "source": []
  },
  {
   "cell_type": "code",
   "execution_count": null,
   "metadata": {},
   "outputs": [],
   "source": []
  },
  {
   "cell_type": "code",
   "execution_count": null,
   "metadata": {},
   "outputs": [],
   "source": []
  },
  {
   "cell_type": "code",
   "execution_count": null,
   "metadata": {},
   "outputs": [],
   "source": []
  }
 ],
 "metadata": {
  "kernelspec": {
   "display_name": "Python 3",
   "language": "python",
   "name": "python3"
  },
  "language_info": {
   "codemirror_mode": {
    "name": "ipython",
    "version": 3
   },
   "file_extension": ".py",
   "mimetype": "text/x-python",
   "name": "python",
   "nbconvert_exporter": "python",
   "pygments_lexer": "ipython3",
   "version": "3.7.4"
  }
 },
 "nbformat": 4,
 "nbformat_minor": 2
}
